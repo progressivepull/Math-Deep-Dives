{
  "metadata": {
    "kernelspec": {
      "name": "python",
      "display_name": "Python (Pyodide)",
      "language": "python"
    },
    "language_info": {
      "codemirror_mode": {
        "name": "python",
        "version": 3
      },
      "file_extension": ".py",
      "mimetype": "text/x-python",
      "name": "python",
      "nbconvert_exporter": "python",
      "pygments_lexer": "ipython3",
      "version": "3.8"
    }
  },
  "nbformat_minor": 5,
  "nbformat": 4,
  "cells": [
    {
      "id": "57716116-abb2-4364-a0a3-fd29dc743a38",
      "cell_type": "markdown",
      "source": "# Computes the Weighted Sum",
      "metadata": {}
    },
    {
      "id": "c7959ada-e789-490c-af02-9c74f3408ce7",
      "cell_type": "markdown",
      "source": "This Python expression computes the **weighted sum** of elements in two lists (`inputs` and `weights`) using a combination of a list comprehension and the `sum()` function.",
      "metadata": {}
    },
    {
      "id": "db02ac15-b8de-4628-98ff-c690bd9e3ba2",
      "cell_type": "markdown",
      "source": "To compute the weighted sum, each input is multiplied by its corresponding weight, and then all the products are added together.\n\nGiven:    \n\ninputs = [1, 2, 3]    \nweights = [0.5, 0.2, 0.3]    \n\n**The weighted sum is calculated as:**\n\nweighted sum = (1 × 0.5) + (2 × 0.2) + (3 × 0.3)   \nweighted sum = (0.5) + (0.4) + (0.9)    \nweighted sum = 1.8    \n\n**So, the weighted sum is 1.8.**    ",
      "metadata": {}
    },
    {
      "id": "0e6778bb-ef8c-41f5-8f80-c0d4ab4ed183",
      "cell_type": "markdown",
      "source": "### Explanation:\n1. **`zip(inputs, weights)`**:\n   - The `zip()` function takes two iterables (in this case, `inputs` and `weights`) and combines them into pairs of corresponding elements.\n   - For example, if `inputs = [1, 2, 3]` and `weights = [0.5, 0.2, 0.3]`, `zip(inputs, weights)` will produce `[(1, 0.5), (2, 0.2), (3, 0.3)]`.",
      "metadata": {}
    },
    {
      "id": "fe8e0891-5246-41e1-b023-626babfc42db",
      "cell_type": "markdown",
      "source": "2. **`[x * w for x, w in zip(inputs, weights)]`**:\n   - This is a **list comprehension** that iterates over the pairs `(x, w)` produced by `zip(inputs, weights)`.\n   - For each pair, it calculates the product `x * w` (multiplying the input value by its corresponding weight).\n   - The result is a new list containing these products.\n   - Example: With `inputs = [1, 2, 3]` and `weights = [0.5, 0.2, 0.3]`, this creates `[1 * 0.5, 2 * 0.2, 3 * 0.3]`, which evaluates to `[0.5, 0.4, 0.9]`.\n",
      "metadata": {}
    },
    {
      "id": "64543b14-8f7c-45b5-a4b4-dc81f8ef9ec2",
      "cell_type": "markdown",
      "source": "3. **`sum([...])`**:\n   - The `sum()` function calculates the total (sum) of all the elements in the list produced by the list comprehension.\n   - Continuing the example, `sum([0.5, 0.4, 0.9])` evaluates to `1.8`.",
      "metadata": {}
    },
    {
      "id": "cc2302e3-b0fb-499d-970e-5152225cb344",
      "cell_type": "markdown",
      "source": "### Overall Purpose:\nThe expression computes the **weighted sum** of the `inputs` list, using the corresponding `weights` list. This is a common operation in machine learning and neural networks, where the weighted sum is used in calculations for neurons or layers.",
      "metadata": {}
    },
    {
      "id": "27654f28-8cac-4d0e-be92-d23e4b8a53e4",
      "cell_type": "markdown",
      "source": "### Example:\n```python\ninputs = [1, 2, 3]\nweights = [0.5, 0.2, 0.3]\n\nresult = sum([x * w for x, w in zip(inputs, weights)])\nprint(result)  # Output: 1.8\n```",
      "metadata": {}
    },
    {
      "id": "63e530bb-7ffb-4c83-94a4-53aa62ef11f3",
      "cell_type": "code",
      "source": "inputs = [1, 2, 3]\nweights = [0.5, 0.2, 0.3]\n\nresult = sum([x * w for x, w in zip(inputs, weights)])\nprint(result)  # Output: 1.8",
      "metadata": {
        "trusted": true
      },
      "outputs": [
        {
          "name": "stdout",
          "output_type": "stream",
          "text": "1.7999999999999998\n"
        }
      ],
      "execution_count": 1
    },
    {
      "id": "188c2d89-2d0b-4666-a4e9-bb29eec37cdd",
      "cell_type": "markdown",
      "source": "### Key Points:\n- **Efficiency**: The code uses a concise and efficient list comprehension.\n- **Use Case**: This is commonly used in mathematical and machine learning contexts for linear combinations or dot products.",
      "metadata": {}
    },
    {
      "id": "b271377a-2d28-48b7-ad83-5cf769e057f9",
      "cell_type": "markdown",
      "source": "# [Math Deep Dives](./README.md)",
      "metadata": {}
    }
  ]
}