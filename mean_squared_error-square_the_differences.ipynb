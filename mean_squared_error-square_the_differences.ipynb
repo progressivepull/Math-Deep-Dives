{
 "cells": [
  {
   "cell_type": "markdown",
   "id": "4641f44c-45bc-4544-8d72-78b57b7be679",
   "metadata": {},
   "source": [
    "<p style=\"color: blue; font-size: 30px;\"><b>Square the differences</b></p>"
   ]
  },
  {
   "cell_type": "markdown",
   "id": "3bd6e857-ce07-4464-a448-3dd3dd9b71ae",
   "metadata": {},
   "source": [
    "The phrase **\"square the differences\"** typically refers to a step in mathematical or statistical calculations, especially in contexts like **variance, standard deviation, or least squares regression**. Here's what it means:\n",
    "\n",
    "# Common Applications\n",
    "\n",
    "### 📊 Common Applications of Squaring the Differences\n",
    "\n",
    "| **Context**                  | **Description**                                                                 |\n",
    "|-----------------------------|---------------------------------------------------------------------------------|\n",
    "| **Variance & Standard Deviation** | Measure how far each data point is from the mean. Subtract the mean from each value, square the result, then average those squares. |\n",
    "| **Least Squares Regression**     | Minimize the sum of squared differences between observed and predicted values. |\n",
    "| **Root Mean Square (RMS)**       | Square each value (or difference), average them, then take the square root.   |\n",
    "\n"
   ]
  },
  {
   "cell_type": "markdown",
   "id": "91e26070-548f-4a33-aa0e-b4c356664006",
   "metadata": {},
   "source": [
    "## Step 1: Initial Values"
   ]
  },
  {
   "cell_type": "code",
   "execution_count": 3,
   "id": "81b9fa7c-221c-4cc8-be3d-b5ab15dfb525",
   "metadata": {},
   "outputs": [],
   "source": [
    "final_values = [ 0.5, -0.5,  0, -1 ]"
   ]
  },
  {
   "cell_type": "markdown",
   "id": "0d221edf-91cb-4330-ad61-6078eb3314e0",
   "metadata": {},
   "source": [
    "You have a list of numbers. These could be differences from some mean, for example."
   ]
  },
  {
   "cell_type": "markdown",
   "id": "95b89773-187f-4397-9c84-09ae46cdf28a",
   "metadata": {},
   "source": [
    "## Step 2: Loop to Square Each Difference"
   ]
  },
  {
   "cell_type": "code",
   "execution_count": 7,
   "id": "1e3001c9-9470-4673-9310-8b5cf6436ee2",
   "metadata": {},
   "outputs": [
    {
     "name": "stdout",
     "output_type": "stream",
     "text": [
      "0 : 0.25 = 0.5 * 0.5\n",
      "1 : 0.25 = -0.5 * -0.5\n",
      "2 : 0 = 0 * 0\n",
      "3 : 1 = -1 * -1\n"
     ]
    }
   ],
   "source": [
    "for x in range(4): \n",
    "    print(str(x) + \" : \" + str(final_values[x] ** 2) + \" = \" + str(final_values[x]) + \" * \" + str(final_values[x]) )\n",
    "    final_values[x] = final_values[x] ** 2"
   ]
  },
  {
   "cell_type": "markdown",
   "id": "4cc8be00-5e50-4c3d-b8f0-5f77867ed5aa",
   "metadata": {},
   "source": [
    "This loop does two things for each element in the list:\n",
    "\n",
    "1. Prints the calculation:\n",
    "For each index x in the list, it prints the index, the square of the value, and how the square is calculated.\n",
    "For example, for x=0, it prints:\n",
    "\n",
    "```\n",
    "0 : 0.25 = 0.5 * 0.5\n",
    "```\n",
    "2. Squares the value:\n",
    "It replaces the value at index x in final_values with its square:\n",
    "\n",
    "    - 0.5 -> 0.25\n",
    "    - -0.5 -> 0.25\n",
    "    - 0 -> 0\n",
    "    - -1 -> 1\n"
   ]
  },
  {
   "cell_type": "markdown",
   "id": "fd8bf3df-ad64-4291-b60a-3e209f2ea0e8",
   "metadata": {},
   "source": [
    "### Step 3: Print the Answer"
   ]
  },
  {
   "cell_type": "code",
   "execution_count": 11,
   "id": "622d6e09-7d83-42ea-a689-cf40dc06f21c",
   "metadata": {},
   "outputs": [
    {
     "name": "stdout",
     "output_type": "stream",
     "text": [
      "ANSWER\n",
      "[0.25, 0.25, 0, 1]\n"
     ]
    }
   ],
   "source": [
    "print(\"ANSWER\")\n",
    "print(final_values)"
   ]
  },
  {
   "cell_type": "markdown",
   "id": "f780ba26-a5da-4815-8e66-04d82b792341",
   "metadata": {},
   "source": [
    "### Summary\n",
    "* You started with a list of numbers (could be differences from a target or mean).\n",
    "* You squared each value (making all results positive or zero).\n",
    "* Now final_values contains the squares: [0.25, 0.25, 0, 1]."
   ]
  },
  {
   "cell_type": "markdown",
   "id": "ed61639e-ca8d-4146-8163-795113355875",
   "metadata": {},
   "source": [
    "# Sum up the squared differences\n",
    "Add up all the squared differences:\n",
    "\n",
    "$$\n",
    "    0.25 + 0.25 + 0 + 1 = 1.5\n",
    "$$"
   ]
  },
  {
   "cell_type": "code",
   "execution_count": 23,
   "id": "bfd46119-4b0a-4495-bbb8-c4d53a5974c2",
   "metadata": {},
   "outputs": [
    {
     "name": "stdout",
     "output_type": "stream",
     "text": [
      "final_values[0.25, 0.25, 0, 1]\n",
      "Sum up the list :1.5\n"
     ]
    }
   ],
   "source": [
    "print( \"final_values\" + str(final_values) )\n",
    "total = sum(final_values)\n",
    "print( \"Sum up the list :\" + str(total) )  # Output: 1.5"
   ]
  },
  {
   "cell_type": "markdown",
   "id": "77934434-f6fa-40ff-9ba7-faaafdb88ddc",
   "metadata": {},
   "source": [
    "# Divide by the number of data points\n",
    "Finally, divide the total squared differences by the number of data points (4) to get the mean: $$\\text{MSE} = \\frac{1.5}{4} = 0.375$$"
   ]
  },
  {
   "cell_type": "code",
   "execution_count": 33,
   "id": "bc633652-4134-43d8-bdf9-20ff384788d7",
   "metadata": {},
   "outputs": [
    {
     "name": "stdout",
     "output_type": "stream",
     "text": [
      "The Mean Squared Error (MSE) is 0.375\n"
     ]
    }
   ],
   "source": [
    "mse = sum(final_values) / len(final_values)\n",
    "\n",
    "print(\"The Mean Squared Error (MSE) is \" + str(mse) )"
   ]
  },
  {
   "cell_type": "code",
   "execution_count": null,
   "id": "99407c5e-6422-4a90-8d58-036a4ede80f9",
   "metadata": {},
   "outputs": [],
   "source": []
  }
 ],
 "metadata": {
  "kernelspec": {
   "display_name": "Python [conda env:base] *",
   "language": "python",
   "name": "conda-base-py"
  },
  "language_info": {
   "codemirror_mode": {
    "name": "ipython",
    "version": 3
   },
   "file_extension": ".py",
   "mimetype": "text/x-python",
   "name": "python",
   "nbconvert_exporter": "python",
   "pygments_lexer": "ipython3",
   "version": "3.12.3"
  }
 },
 "nbformat": 4,
 "nbformat_minor": 5
}
