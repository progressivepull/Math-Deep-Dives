{
 "cells": [
  {
   "cell_type": "code",
   "execution_count": 29,
   "id": "b1391535-6656-495e-8b80-b5479ecab61c",
   "metadata": {},
   "outputs": [],
   "source": [
    "import numpy as np\n",
    "import matplotlib.pyplot as plt"
   ]
  },
  {
   "cell_type": "markdown",
   "id": "4042cc0a-17d8-4f30-b398-02e752a9f037",
   "metadata": {},
   "source": [
    "<p style=\"color: blue; font-size: 30px;\"><b>Calculate the Mean Squared Error (MSE) step by step by hand</b></p>"
   ]
  },
  {
   "cell_type": "markdown",
   "id": "f631db30-25ef-47da-aa60-468b4fc004d3",
   "metadata": {},
   "source": [
    "**Mean Squared Error (MSE)** is a commonly used metric to measure the average of the squares of the errors between predicted values and actual values. It is widely used in regression analysis and machine learning to evaluate how well a model's predictions match the actual data.\n",
    "\n",
    "###  Formula\n",
    "Given a set of predictions $\\hat{y}_i$ and actual values $y_i$ for $n$ data points:\n",
    "\n",
    "$$\n",
    "\\text{MSE} = \\frac{1}{n} \\sum_{i=1}^{n} (y_i - \\hat{y}_i)^2\n",
    "$$\n",
    "\n",
    "Where:\n",
    "- $ n $ is the number of data points,\n",
    "- $ y_i $ is the actual value,\n",
    "- $ \\hat{y}_i $ is the predicted value.\n",
    "\n",
    "### Explanation\n",
    "\n",
    "MSE calculates the mean of the squared differences between actual and predicted values, providing a measure of how well a model performs.\n",
    "\n",
    "* **Error Term $(y_i - \\hat{y}_i)$:** The difference between the actual value and the predicted value for each point.\n",
    "* **Squaring the Error:** By squaring, we ensure all error values are positive and penalize larger errors more heavily.\n",
    "* **Averaging:** The sum of squared errors is divided by the number of data points to get the mean.\n",
    "\n",
    "### Properties\n",
    "* **Non-negative:** MSE is always greater than or equal to 0. A value of 0 indicates perfect predictions.\n",
    "* **Sensitive to Outliers:** Because errors are squared, larger errors have a disproportionately large effect on the MSE.\n",
    "\n",
    "### Example\n",
    "* Suppose you have actual values [3, 5, 2] and predictions [2, 5, 4]:\n",
    "\n",
    "$$\n",
    "\\begin{align*}\n",
    "\\text{MSE} &= \\frac{1}{3} \\left( (3-2)^2 + (5-5)^2 + (2-4)^2 \\right) \\\\\n",
    "           &= \\frac{1}{3} (1 + 0 + 4) \\\\\n",
    "           &= \\frac{5}{3} \\\\\n",
    "           &\\approx 1.67 \\\\\n",
    "\\end{align*}\n",
    "$$\n",
    "\n",
    "### Usage\n",
    "* **Model Evaluation:** Lower MSE means better model performance.\n",
    "* **Optimization:** Many machine learning algorithms try to minimize MSE during training.\n",
    "---\n",
    "In summary, MSE provides a quantitative way to assess how close predictions are to actual outcomes, with a focus on penalizing larger errors.\n"
   ]
  },
  {
   "cell_type": "markdown",
   "id": "1e7c6232-b448-4fea-ab4f-d6f745736264",
   "metadata": {},
   "source": [
    "## Calculation Mean Squared Error"
   ]
  },
  {
   "cell_type": "code",
   "execution_count": 34,
   "id": "dd76a10d-9c13-49eb-b3bd-541757012049",
   "metadata": {},
   "outputs": [
    {
     "name": "stdout",
     "output_type": "stream",
     "text": [
      "0 : (3 - 2)^2 = 1\n",
      "1 : (5 - 5)^2 = 0\n",
      "2 : (2 - 4)^2 = 4\n",
      "ANSWER\n",
      "MSE = 1.6666666666666667\n"
     ]
    }
   ],
   "source": [
    "actual_values = [3, 5, 2]\n",
    "predicted_values = [2, 5, 4]\n",
    "\n",
    "squared_errors = [0, 0, 0]\n",
    "\n",
    "for x in range(3):  # Loop through indices 0 to 2\n",
    "    error = actual_values[x] - predicted_values[x]\n",
    "    squared_errors[x] = error ** 2\n",
    "    print(f\"{x} : ({actual_values[x]} - {predicted_values[x]})^2 = {squared_errors[x]}\")\n",
    "\n",
    "mse = sum(squared_errors) / len(actual_values)\n",
    "print(\"ANSWER\")\n",
    "print(\"MSE =\", mse)"
   ]
  },
  {
   "cell_type": "markdown",
   "id": "26bbfa68-edce-4e39-a08c-422fb822e132",
   "metadata": {},
   "source": [
    "#### OR ( Using Numpy)"
   ]
  },
  {
   "cell_type": "code",
   "execution_count": 37,
   "id": "39b1c5e1-db06-48ce-9400-4e45c57c1225",
   "metadata": {},
   "outputs": [
    {
     "name": "stdout",
     "output_type": "stream",
     "text": [
      "Difference: [ 1  0 -2]\n",
      "Squared Differences: [1 0 4]\n",
      "Mean Squared Error (MSE): 1.6666666666666667\n"
     ]
    }
   ],
   "source": [
    "# Arrays\n",
    "actual_values = np.array([3, 5, 2])\n",
    "predicted_values = np.array([2, 5, 4])\n",
    "\n",
    "# Subtraction\n",
    "difference = actual_values - predicted_values\n",
    "print(\"Difference:\", difference)\n",
    "\n",
    "# Squared differences\n",
    "squared_difference = difference ** 2\n",
    "print(\"Squared Differences:\", squared_difference)\n",
    "\n",
    "# Mean Squared Error calculation\n",
    "mse = np.mean(squared_difference)\n",
    "print(\"Mean Squared Error (MSE):\", mse)"
   ]
  },
  {
   "cell_type": "markdown",
   "id": "f41c282a-80f2-4bd6-9c59-f6986c69d26e",
   "metadata": {},
   "source": [
    "# [Math Deep Dives](./README.md)"
   ]
  }
 ],
 "metadata": {
  "kernelspec": {
   "display_name": "Python [conda env:base] *",
   "language": "python",
   "name": "conda-base-py"
  },
  "language_info": {
   "codemirror_mode": {
    "name": "ipython",
    "version": 3
   },
   "file_extension": ".py",
   "mimetype": "text/x-python",
   "name": "python",
   "nbconvert_exporter": "python",
   "pygments_lexer": "ipython3",
   "version": "3.12.3"
  }
 },
 "nbformat": 4,
 "nbformat_minor": 5
}
