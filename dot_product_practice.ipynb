{
 "cells": [
  {
   "cell_type": "markdown",
   "id": "77d1bfa7-af10-40ef-a038-a37dfb9b4b97",
   "metadata": {},
   "source": [
    "# Dot Product Practice"
   ]
  },
  {
   "cell_type": "code",
   "execution_count": null,
   "id": "0c822538-28a3-49b8-baf5-bac707dacc70",
   "metadata": {},
   "outputs": [],
   "source": []
  }
 ],
 "metadata": {
  "kernelspec": {
   "display_name": "Python [conda env:base] *",
   "language": "python",
   "name": "conda-base-py"
  },
  "language_info": {
   "codemirror_mode": {
    "name": "ipython",
    "version": 3
   },
   "file_extension": ".py",
   "mimetype": "text/x-python",
   "name": "python",
   "nbconvert_exporter": "python",
   "pygments_lexer": "ipython3",
   "version": "3.12.3"
  }
 },
 "nbformat": 4,
 "nbformat_minor": 5
}
